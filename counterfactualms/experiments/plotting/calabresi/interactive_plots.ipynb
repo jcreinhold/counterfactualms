{
 "cells": [
  {
   "cell_type": "markdown",
   "metadata": {},
   "source": [
    "# Setup\n",
    "\n",
    "Skip the next cell if you're not running this on Colab."
   ]
  },
  {
   "cell_type": "code",
   "execution_count": null,
   "metadata": {},
   "outputs": [],
   "source": [
    "# Colab setup\n",
    "! git clone https://github.com/biomedia-mira/deepscm.git\n",
    "! pip install -r deepscm/requirements.txt\n",
    "%cd deepscm/deepscm/experiments/plotting/ukbb/"
   ]
  },
  {
   "cell_type": "code",
   "execution_count": null,
   "metadata": {},
   "outputs": [],
   "source": [
    "%matplotlib inline\n",
    "\n",
    "from plotting_helper import plot_gen_intervention_range, interactive_plot"
   ]
  },
  {
   "cell_type": "markdown",
   "metadata": {},
   "source": [
    "# Plotting"
   ]
  },
  {
   "cell_type": "code",
   "execution_count": null,
   "metadata": {},
   "outputs": [],
   "source": [
    "idx = 0\n",
    "model_name = 'ConditionalVISEM'\n",
    "\n",
    "interventions = [\n",
    "    {'sex': 1.},\n",
    "    {'age': 40.},\n",
    "    {'age': 80.},\n",
    "    {'brain_volume': 800000.},\n",
    "    {'brain_volume': 1600000.},\n",
    "    {'ventricle_volume': 11000.},\n",
    "    {'ventricle_volume': 110000.},\n",
    "]\n",
    "\n",
    "plot_gen_intervention_range(model_name, interventions, idx, normalise_all=True, num_samples=32)"
   ]
  },
  {
   "cell_type": "markdown",
   "metadata": {},
   "source": [
    "# Interactive Plotting"
   ]
  },
  {
   "cell_type": "code",
   "execution_count": null,
   "metadata": {},
   "outputs": [],
   "source": [
    "interactive_plot(model_name)"
   ]
  }
 ],
 "metadata": {
  "kernelspec": {
   "display_name": "Python 3",
   "language": "python",
   "name": "python3"
  },
  "language_info": {
   "codemirror_mode": {
    "name": "ipython",
    "version": 3
   },
   "file_extension": ".py",
   "mimetype": "text/x-python",
   "name": "python",
   "nbconvert_exporter": "python",
   "pygments_lexer": "ipython3",
   "version": "3.7.2"
  }
 },
 "nbformat": 4,
 "nbformat_minor": 2
}

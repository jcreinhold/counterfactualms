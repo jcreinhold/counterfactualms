{
 "cells": [
  {
   "cell_type": "code",
   "execution_count": null,
   "metadata": {},
   "outputs": [],
   "source": [
    "%matplotlib inline\n",
    "\n",
    "from glob import glob\n",
    "\n",
    "from counterfactualms.experiments.plotting.plotting_helper import (\n",
    "    plot_gen_intervention_range, interactive_plot, setup\n",
    ")"
   ]
  },
  {
   "cell_type": "code",
   "execution_count": null,
   "metadata": {},
   "outputs": [],
   "source": [
    "model_path = glob('/iacl/pg20/jacobr/calabresi/run/SVIExperiment/ConditionalVISEM/version_3/checkpoints/*.ckpt')[0]\n",
    "csv_path = \"/iacl/pg20/jacobr/calabresi/png/csv/train_png.csv\"\n",
    "setup(model_path, csv_path)"
   ]
  },
  {
   "cell_type": "code",
   "execution_count": null,
   "metadata": {},
   "outputs": [],
   "source": [
    "idx = 0\n",
    "model_name = 'ConditionalVISEM'"
   ]
  },
  {
   "cell_type": "markdown",
   "metadata": {},
   "source": [
    "# Plotting"
   ]
  },
  {
   "cell_type": "code",
   "execution_count": null,
   "metadata": {},
   "outputs": [],
   "source": [
    "interventions = [\n",
    "    {'sex': 1.},\n",
    "    {'age': 40.},\n",
    "    {'brain_volume': 1800000.},\n",
    "    {'ventricle_volume': 40000.},\n",
    "    {'lesion_volume': 20000.}\n",
    "]\n",
    "\n",
    "plot_gen_intervention_range(model_name, interventions, idx, normalise_all=True, num_samples=32)"
   ]
  },
  {
   "cell_type": "markdown",
   "metadata": {},
   "source": [
    "# Interactive Plotting\n",
    "\n",
    "Difference is the test image minus the original. Red shows higher intensity in the test image relative to the original, and blue shows lower intensity in the test image relative to the original."
   ]
  },
  {
   "cell_type": "code",
   "execution_count": null,
   "metadata": {},
   "outputs": [],
   "source": [
    "interactive_plot(model_name);"
   ]
  }
 ],
 "metadata": {
  "kernelspec": {
   "display_name": "Python 3",
   "language": "python",
   "name": "python3"
  },
  "language_info": {
   "codemirror_mode": {
    "name": "ipython",
    "version": 3
   },
   "file_extension": ".py",
   "mimetype": "text/x-python",
   "name": "python",
   "nbconvert_exporter": "python",
   "pygments_lexer": "ipython3",
   "version": "3.8.6"
  }
 },
 "nbformat": 4,
 "nbformat_minor": 4
}

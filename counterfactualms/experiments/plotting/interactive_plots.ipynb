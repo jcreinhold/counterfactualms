{
 "cells": [
  {
   "cell_type": "code",
   "execution_count": null,
   "metadata": {},
   "outputs": [],
   "source": [
    "%matplotlib inline\n",
    "\n",
    "from glob import glob\n",
    "import os\n",
    "\n",
    "os.environ['CUDA_VISIBLE_DEVICES'] = '0'\n",
    "\n",
    "from counterfactualms.experiments.plotting.plotting_helper import (\n",
    "    plot_gen_intervention_range, interactive_plot, setup, get_best_model\n",
    ")"
   ]
  },
  {
   "cell_type": "code",
   "execution_count": null,
   "metadata": {},
   "outputs": [],
   "source": [
    "model_paths = glob('/iacl/pg20/jacobr/calabresi/run/SVIExperiment/ConditionalVISEM/version_0/checkpoints/*.ckpt')\n",
    "model_path = get_best_model(model_paths)\n",
    "csv_path = \"/iacl/pg20/jacobr/calabresi/png/csv/train_png.csv\"\n",
    "setup(model_path, csv_path, use_gpu=True)"
   ]
  },
  {
   "cell_type": "code",
   "execution_count": null,
   "metadata": {},
   "outputs": [],
   "source": [
    "model_name = 'ConditionalVISEM'"
   ]
  },
  {
   "cell_type": "markdown",
   "metadata": {},
   "source": [
    "# Plotting"
   ]
  },
  {
   "cell_type": "code",
   "execution_count": null,
   "metadata": {},
   "outputs": [],
   "source": [
    "idx = 560\n",
    "\n",
    "interventions = [\n",
    "    {'age': 40.},\n",
    "    {'ventricle_volume': 80000.},\n",
    "    {'lesion_volume': 1e-5},\n",
    "    {'score': 1e-5}\n",
    "]\n",
    "\n",
    "plot_gen_intervention_range(model_name, interventions, idx, normalise_all=True, num_samples=64)"
   ]
  },
  {
   "cell_type": "markdown",
   "metadata": {},
   "source": [
    "# Interactive Plotting\n",
    "\n",
    "Difference is the test image minus the original. Red shows higher intensity in the test image relative to the original, and blue shows lower intensity in the test image relative to the original."
   ]
  }
 ],
 "metadata": {
  "kernelspec": {
   "display_name": "Python 3",
   "language": "python",
   "name": "python3"
  },
  "language_info": {
   "codemirror_mode": {
    "name": "ipython",
    "version": 3
   },
   "file_extension": ".py",
   "mimetype": "text/x-python",
   "name": "python",
   "nbconvert_exporter": "python",
   "pygments_lexer": "ipython3",
   "version": "3.8.6"
  }
 },
 "nbformat": 4,
 "nbformat_minor": 4
}
